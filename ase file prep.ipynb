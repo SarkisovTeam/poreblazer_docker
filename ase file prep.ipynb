{
 "cells": [
  {
   "cell_type": "code",
   "execution_count": 1,
   "id": "5cdb67ed",
   "metadata": {
    "ExecuteTime": {
     "end_time": "2022-10-04T13:59:24.713159Z",
     "start_time": "2022-10-04T13:59:18.802587Z"
    }
   },
   "outputs": [],
   "source": [
    "from ase import Atoms\n",
    "from ase.io import read, write\n"
   ]
  },
  {
   "cell_type": "code",
   "execution_count": 14,
   "id": "6c483500",
   "metadata": {
    "ExecuteTime": {
     "end_time": "2022-10-04T14:03:42.223515Z",
     "start_time": "2022-10-04T14:03:42.213517Z"
    }
   },
   "outputs": [],
   "source": [
    "target_name = 'Cu_BTC'"
   ]
  },
  {
   "cell_type": "code",
   "execution_count": 15,
   "id": "93f7b842",
   "metadata": {
    "ExecuteTime": {
     "end_time": "2022-10-04T14:03:42.927864Z",
     "start_time": "2022-10-04T14:03:42.559641Z"
    }
   },
   "outputs": [],
   "source": [
    "target = read(f'{target_name}.cif')"
   ]
  },
  {
   "cell_type": "code",
   "execution_count": 16,
   "id": "f5c15f3d",
   "metadata": {
    "ExecuteTime": {
     "end_time": "2022-10-04T14:03:43.782830Z",
     "start_time": "2022-10-04T14:03:43.768874Z"
    }
   },
   "outputs": [
    {
     "data": {
      "text/plain": [
       "Atoms(symbols='C288H96Cu48O192', pbc=True, cell=[26.343, 26.343, 26.343], spacegroup_kinds=...)"
      ]
     },
     "execution_count": 16,
     "metadata": {},
     "output_type": "execute_result"
    }
   ],
   "source": [
    "target"
   ]
  },
  {
   "cell_type": "code",
   "execution_count": 17,
   "id": "b57761ef",
   "metadata": {
    "ExecuteTime": {
     "end_time": "2022-10-04T14:03:46.461783Z",
     "start_time": "2022-10-04T14:03:46.439488Z"
    }
   },
   "outputs": [
    {
     "data": {
      "text/plain": [
       "array([26.343, 26.343, 26.343])"
      ]
     },
     "execution_count": 17,
     "metadata": {},
     "output_type": "execute_result"
    }
   ],
   "source": [
    "target.cell.lengths()"
   ]
  },
  {
   "cell_type": "code",
   "execution_count": 18,
   "id": "e1458d71",
   "metadata": {
    "ExecuteTime": {
     "end_time": "2022-10-04T14:03:47.489172Z",
     "start_time": "2022-10-04T14:03:47.477143Z"
    }
   },
   "outputs": [
    {
     "data": {
      "text/plain": [
       "array([90., 90., 90.])"
      ]
     },
     "execution_count": 18,
     "metadata": {},
     "output_type": "execute_result"
    }
   ],
   "source": [
    "target.cell.angles()"
   ]
  },
  {
   "cell_type": "code",
   "execution_count": 19,
   "id": "c046d8e4",
   "metadata": {
    "ExecuteTime": {
     "end_time": "2022-10-04T14:06:14.265795Z",
     "start_time": "2022-10-04T14:06:14.232796Z"
    }
   },
   "outputs": [],
   "source": [
    "target.write(f'{target_name}.xyz', format='xyz')"
   ]
  },
  {
   "cell_type": "code",
   "execution_count": 23,
   "id": "0cdfea7f",
   "metadata": {
    "ExecuteTime": {
     "end_time": "2022-10-04T14:09:03.108293Z",
     "start_time": "2022-10-04T14:09:03.084568Z"
    }
   },
   "outputs": [],
   "source": [
    "output_str = ''\n",
    "output_str += target_name\n",
    "output_str += '\\n'\n",
    "output_str += ' '.join([str(x) for x in target.cell.lengths()])\n",
    "output_str += '\\n'\n",
    "output_str += ' '.join([str(x) for x in target.cell.angles()])\n",
    "with open('input.dat', 'w') as f:\n",
    "    f.write(output_str)"
   ]
  }
 ],
 "metadata": {
  "kernelspec": {
   "display_name": "dlmontepython",
   "language": "python",
   "name": "dlmontepython"
  },
  "language_info": {
   "codemirror_mode": {
    "name": "ipython",
    "version": 3
   },
   "file_extension": ".py",
   "mimetype": "text/x-python",
   "name": "python",
   "nbconvert_exporter": "python",
   "pygments_lexer": "ipython3",
   "version": "3.10.2"
  },
  "toc": {
   "base_numbering": 1,
   "nav_menu": {},
   "number_sections": true,
   "sideBar": true,
   "skip_h1_title": true,
   "title_cell": "Table of Contents",
   "title_sidebar": "Contents",
   "toc_cell": false,
   "toc_position": {},
   "toc_section_display": true,
   "toc_window_display": false
  }
 },
 "nbformat": 4,
 "nbformat_minor": 5
}
